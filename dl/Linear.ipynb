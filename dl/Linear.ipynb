{
  "nbformat": 4,
  "nbformat_minor": 0,
  "metadata": {
    "colab": {
      "provenance": [],
      "gpuType": "T4"
    },
    "kernelspec": {
      "name": "python3",
      "display_name": "Python 3"
    },
    "language_info": {
      "name": "python"
    },
    "accelerator": "GPU"
  },
  "cells": [
    {
      "cell_type": "code",
      "execution_count": 1,
      "metadata": {
        "id": "6CfDRRjdVvJH"
      },
      "outputs": [],
      "source": [
        "import pandas as pd\n",
        "import numpy as np\n",
        "from tensorflow.keras.models import Sequential\n",
        "from tensorflow.keras.layers import Dense\n",
        "import matplotlib.pyplot as plt"
      ]
    },
    {
      "cell_type": "code",
      "source": [
        "df=pd.read_csv('/content/HousingData.csv')\n",
        "df.head()"
      ],
      "metadata": {
        "colab": {
          "base_uri": "https://localhost:8080/",
          "height": 206
        },
        "id": "VJLvio44WHN-",
        "outputId": "5c1f82a2-a045-4ea0-a992-11fb442796dd"
      },
      "execution_count": 2,
      "outputs": [
        {
          "output_type": "execute_result",
          "data": {
            "text/plain": [
              "      CRIM    ZN  INDUS  CHAS    NOX     RM   AGE     DIS  RAD  TAX  PTRATIO  \\\n",
              "0  0.00632  18.0   2.31   0.0  0.538  6.575  65.2  4.0900    1  296     15.3   \n",
              "1  0.02731   0.0   7.07   0.0  0.469  6.421  78.9  4.9671    2  242     17.8   \n",
              "2  0.02729   0.0   7.07   0.0  0.469  7.185  61.1  4.9671    2  242     17.8   \n",
              "3  0.03237   0.0   2.18   0.0  0.458  6.998  45.8  6.0622    3  222     18.7   \n",
              "4  0.06905   0.0   2.18   0.0  0.458  7.147  54.2  6.0622    3  222     18.7   \n",
              "\n",
              "        B  LSTAT  MEDV  \n",
              "0  396.90   4.98  24.0  \n",
              "1  396.90   9.14  21.6  \n",
              "2  392.83   4.03  34.7  \n",
              "3  394.63   2.94  33.4  \n",
              "4  396.90    NaN  36.2  "
            ],
            "text/html": [
              "\n",
              "  <div id=\"df-1c4b5dc0-ad17-4320-b730-67fc159cd348\" class=\"colab-df-container\">\n",
              "    <div>\n",
              "<style scoped>\n",
              "    .dataframe tbody tr th:only-of-type {\n",
              "        vertical-align: middle;\n",
              "    }\n",
              "\n",
              "    .dataframe tbody tr th {\n",
              "        vertical-align: top;\n",
              "    }\n",
              "\n",
              "    .dataframe thead th {\n",
              "        text-align: right;\n",
              "    }\n",
              "</style>\n",
              "<table border=\"1\" class=\"dataframe\">\n",
              "  <thead>\n",
              "    <tr style=\"text-align: right;\">\n",
              "      <th></th>\n",
              "      <th>CRIM</th>\n",
              "      <th>ZN</th>\n",
              "      <th>INDUS</th>\n",
              "      <th>CHAS</th>\n",
              "      <th>NOX</th>\n",
              "      <th>RM</th>\n",
              "      <th>AGE</th>\n",
              "      <th>DIS</th>\n",
              "      <th>RAD</th>\n",
              "      <th>TAX</th>\n",
              "      <th>PTRATIO</th>\n",
              "      <th>B</th>\n",
              "      <th>LSTAT</th>\n",
              "      <th>MEDV</th>\n",
              "    </tr>\n",
              "  </thead>\n",
              "  <tbody>\n",
              "    <tr>\n",
              "      <th>0</th>\n",
              "      <td>0.00632</td>\n",
              "      <td>18.0</td>\n",
              "      <td>2.31</td>\n",
              "      <td>0.0</td>\n",
              "      <td>0.538</td>\n",
              "      <td>6.575</td>\n",
              "      <td>65.2</td>\n",
              "      <td>4.0900</td>\n",
              "      <td>1</td>\n",
              "      <td>296</td>\n",
              "      <td>15.3</td>\n",
              "      <td>396.90</td>\n",
              "      <td>4.98</td>\n",
              "      <td>24.0</td>\n",
              "    </tr>\n",
              "    <tr>\n",
              "      <th>1</th>\n",
              "      <td>0.02731</td>\n",
              "      <td>0.0</td>\n",
              "      <td>7.07</td>\n",
              "      <td>0.0</td>\n",
              "      <td>0.469</td>\n",
              "      <td>6.421</td>\n",
              "      <td>78.9</td>\n",
              "      <td>4.9671</td>\n",
              "      <td>2</td>\n",
              "      <td>242</td>\n",
              "      <td>17.8</td>\n",
              "      <td>396.90</td>\n",
              "      <td>9.14</td>\n",
              "      <td>21.6</td>\n",
              "    </tr>\n",
              "    <tr>\n",
              "      <th>2</th>\n",
              "      <td>0.02729</td>\n",
              "      <td>0.0</td>\n",
              "      <td>7.07</td>\n",
              "      <td>0.0</td>\n",
              "      <td>0.469</td>\n",
              "      <td>7.185</td>\n",
              "      <td>61.1</td>\n",
              "      <td>4.9671</td>\n",
              "      <td>2</td>\n",
              "      <td>242</td>\n",
              "      <td>17.8</td>\n",
              "      <td>392.83</td>\n",
              "      <td>4.03</td>\n",
              "      <td>34.7</td>\n",
              "    </tr>\n",
              "    <tr>\n",
              "      <th>3</th>\n",
              "      <td>0.03237</td>\n",
              "      <td>0.0</td>\n",
              "      <td>2.18</td>\n",
              "      <td>0.0</td>\n",
              "      <td>0.458</td>\n",
              "      <td>6.998</td>\n",
              "      <td>45.8</td>\n",
              "      <td>6.0622</td>\n",
              "      <td>3</td>\n",
              "      <td>222</td>\n",
              "      <td>18.7</td>\n",
              "      <td>394.63</td>\n",
              "      <td>2.94</td>\n",
              "      <td>33.4</td>\n",
              "    </tr>\n",
              "    <tr>\n",
              "      <th>4</th>\n",
              "      <td>0.06905</td>\n",
              "      <td>0.0</td>\n",
              "      <td>2.18</td>\n",
              "      <td>0.0</td>\n",
              "      <td>0.458</td>\n",
              "      <td>7.147</td>\n",
              "      <td>54.2</td>\n",
              "      <td>6.0622</td>\n",
              "      <td>3</td>\n",
              "      <td>222</td>\n",
              "      <td>18.7</td>\n",
              "      <td>396.90</td>\n",
              "      <td>NaN</td>\n",
              "      <td>36.2</td>\n",
              "    </tr>\n",
              "  </tbody>\n",
              "</table>\n",
              "</div>\n",
              "    <div class=\"colab-df-buttons\">\n",
              "\n",
              "  <div class=\"colab-df-container\">\n",
              "    <button class=\"colab-df-convert\" onclick=\"convertToInteractive('df-1c4b5dc0-ad17-4320-b730-67fc159cd348')\"\n",
              "            title=\"Convert this dataframe to an interactive table.\"\n",
              "            style=\"display:none;\">\n",
              "\n",
              "  <svg xmlns=\"http://www.w3.org/2000/svg\" height=\"24px\" viewBox=\"0 -960 960 960\">\n",
              "    <path d=\"M120-120v-720h720v720H120Zm60-500h600v-160H180v160Zm220 220h160v-160H400v160Zm0 220h160v-160H400v160ZM180-400h160v-160H180v160Zm440 0h160v-160H620v160ZM180-180h160v-160H180v160Zm440 0h160v-160H620v160Z\"/>\n",
              "  </svg>\n",
              "    </button>\n",
              "\n",
              "  <style>\n",
              "    .colab-df-container {\n",
              "      display:flex;\n",
              "      gap: 12px;\n",
              "    }\n",
              "\n",
              "    .colab-df-convert {\n",
              "      background-color: #E8F0FE;\n",
              "      border: none;\n",
              "      border-radius: 50%;\n",
              "      cursor: pointer;\n",
              "      display: none;\n",
              "      fill: #1967D2;\n",
              "      height: 32px;\n",
              "      padding: 0 0 0 0;\n",
              "      width: 32px;\n",
              "    }\n",
              "\n",
              "    .colab-df-convert:hover {\n",
              "      background-color: #E2EBFA;\n",
              "      box-shadow: 0px 1px 2px rgba(60, 64, 67, 0.3), 0px 1px 3px 1px rgba(60, 64, 67, 0.15);\n",
              "      fill: #174EA6;\n",
              "    }\n",
              "\n",
              "    .colab-df-buttons div {\n",
              "      margin-bottom: 4px;\n",
              "    }\n",
              "\n",
              "    [theme=dark] .colab-df-convert {\n",
              "      background-color: #3B4455;\n",
              "      fill: #D2E3FC;\n",
              "    }\n",
              "\n",
              "    [theme=dark] .colab-df-convert:hover {\n",
              "      background-color: #434B5C;\n",
              "      box-shadow: 0px 1px 3px 1px rgba(0, 0, 0, 0.15);\n",
              "      filter: drop-shadow(0px 1px 2px rgba(0, 0, 0, 0.3));\n",
              "      fill: #FFFFFF;\n",
              "    }\n",
              "  </style>\n",
              "\n",
              "    <script>\n",
              "      const buttonEl =\n",
              "        document.querySelector('#df-1c4b5dc0-ad17-4320-b730-67fc159cd348 button.colab-df-convert');\n",
              "      buttonEl.style.display =\n",
              "        google.colab.kernel.accessAllowed ? 'block' : 'none';\n",
              "\n",
              "      async function convertToInteractive(key) {\n",
              "        const element = document.querySelector('#df-1c4b5dc0-ad17-4320-b730-67fc159cd348');\n",
              "        const dataTable =\n",
              "          await google.colab.kernel.invokeFunction('convertToInteractive',\n",
              "                                                    [key], {});\n",
              "        if (!dataTable) return;\n",
              "\n",
              "        const docLinkHtml = 'Like what you see? Visit the ' +\n",
              "          '<a target=\"_blank\" href=https://colab.research.google.com/notebooks/data_table.ipynb>data table notebook</a>'\n",
              "          + ' to learn more about interactive tables.';\n",
              "        element.innerHTML = '';\n",
              "        dataTable['output_type'] = 'display_data';\n",
              "        await google.colab.output.renderOutput(dataTable, element);\n",
              "        const docLink = document.createElement('div');\n",
              "        docLink.innerHTML = docLinkHtml;\n",
              "        element.appendChild(docLink);\n",
              "      }\n",
              "    </script>\n",
              "  </div>\n",
              "\n",
              "\n",
              "<div id=\"df-21610454-ca31-4f70-9676-61baff0418e6\">\n",
              "  <button class=\"colab-df-quickchart\" onclick=\"quickchart('df-21610454-ca31-4f70-9676-61baff0418e6')\"\n",
              "            title=\"Suggest charts\"\n",
              "            style=\"display:none;\">\n",
              "\n",
              "<svg xmlns=\"http://www.w3.org/2000/svg\" height=\"24px\"viewBox=\"0 0 24 24\"\n",
              "     width=\"24px\">\n",
              "    <g>\n",
              "        <path d=\"M19 3H5c-1.1 0-2 .9-2 2v14c0 1.1.9 2 2 2h14c1.1 0 2-.9 2-2V5c0-1.1-.9-2-2-2zM9 17H7v-7h2v7zm4 0h-2V7h2v10zm4 0h-2v-4h2v4z\"/>\n",
              "    </g>\n",
              "</svg>\n",
              "  </button>\n",
              "\n",
              "<style>\n",
              "  .colab-df-quickchart {\n",
              "      --bg-color: #E8F0FE;\n",
              "      --fill-color: #1967D2;\n",
              "      --hover-bg-color: #E2EBFA;\n",
              "      --hover-fill-color: #174EA6;\n",
              "      --disabled-fill-color: #AAA;\n",
              "      --disabled-bg-color: #DDD;\n",
              "  }\n",
              "\n",
              "  [theme=dark] .colab-df-quickchart {\n",
              "      --bg-color: #3B4455;\n",
              "      --fill-color: #D2E3FC;\n",
              "      --hover-bg-color: #434B5C;\n",
              "      --hover-fill-color: #FFFFFF;\n",
              "      --disabled-bg-color: #3B4455;\n",
              "      --disabled-fill-color: #666;\n",
              "  }\n",
              "\n",
              "  .colab-df-quickchart {\n",
              "    background-color: var(--bg-color);\n",
              "    border: none;\n",
              "    border-radius: 50%;\n",
              "    cursor: pointer;\n",
              "    display: none;\n",
              "    fill: var(--fill-color);\n",
              "    height: 32px;\n",
              "    padding: 0;\n",
              "    width: 32px;\n",
              "  }\n",
              "\n",
              "  .colab-df-quickchart:hover {\n",
              "    background-color: var(--hover-bg-color);\n",
              "    box-shadow: 0 1px 2px rgba(60, 64, 67, 0.3), 0 1px 3px 1px rgba(60, 64, 67, 0.15);\n",
              "    fill: var(--button-hover-fill-color);\n",
              "  }\n",
              "\n",
              "  .colab-df-quickchart-complete:disabled,\n",
              "  .colab-df-quickchart-complete:disabled:hover {\n",
              "    background-color: var(--disabled-bg-color);\n",
              "    fill: var(--disabled-fill-color);\n",
              "    box-shadow: none;\n",
              "  }\n",
              "\n",
              "  .colab-df-spinner {\n",
              "    border: 2px solid var(--fill-color);\n",
              "    border-color: transparent;\n",
              "    border-bottom-color: var(--fill-color);\n",
              "    animation:\n",
              "      spin 1s steps(1) infinite;\n",
              "  }\n",
              "\n",
              "  @keyframes spin {\n",
              "    0% {\n",
              "      border-color: transparent;\n",
              "      border-bottom-color: var(--fill-color);\n",
              "      border-left-color: var(--fill-color);\n",
              "    }\n",
              "    20% {\n",
              "      border-color: transparent;\n",
              "      border-left-color: var(--fill-color);\n",
              "      border-top-color: var(--fill-color);\n",
              "    }\n",
              "    30% {\n",
              "      border-color: transparent;\n",
              "      border-left-color: var(--fill-color);\n",
              "      border-top-color: var(--fill-color);\n",
              "      border-right-color: var(--fill-color);\n",
              "    }\n",
              "    40% {\n",
              "      border-color: transparent;\n",
              "      border-right-color: var(--fill-color);\n",
              "      border-top-color: var(--fill-color);\n",
              "    }\n",
              "    60% {\n",
              "      border-color: transparent;\n",
              "      border-right-color: var(--fill-color);\n",
              "    }\n",
              "    80% {\n",
              "      border-color: transparent;\n",
              "      border-right-color: var(--fill-color);\n",
              "      border-bottom-color: var(--fill-color);\n",
              "    }\n",
              "    90% {\n",
              "      border-color: transparent;\n",
              "      border-bottom-color: var(--fill-color);\n",
              "    }\n",
              "  }\n",
              "</style>\n",
              "\n",
              "  <script>\n",
              "    async function quickchart(key) {\n",
              "      const quickchartButtonEl =\n",
              "        document.querySelector('#' + key + ' button');\n",
              "      quickchartButtonEl.disabled = true;  // To prevent multiple clicks.\n",
              "      quickchartButtonEl.classList.add('colab-df-spinner');\n",
              "      try {\n",
              "        const charts = await google.colab.kernel.invokeFunction(\n",
              "            'suggestCharts', [key], {});\n",
              "      } catch (error) {\n",
              "        console.error('Error during call to suggestCharts:', error);\n",
              "      }\n",
              "      quickchartButtonEl.classList.remove('colab-df-spinner');\n",
              "      quickchartButtonEl.classList.add('colab-df-quickchart-complete');\n",
              "    }\n",
              "    (() => {\n",
              "      let quickchartButtonEl =\n",
              "        document.querySelector('#df-21610454-ca31-4f70-9676-61baff0418e6 button');\n",
              "      quickchartButtonEl.style.display =\n",
              "        google.colab.kernel.accessAllowed ? 'block' : 'none';\n",
              "    })();\n",
              "  </script>\n",
              "</div>\n",
              "\n",
              "    </div>\n",
              "  </div>\n"
            ],
            "application/vnd.google.colaboratory.intrinsic+json": {
              "type": "dataframe",
              "variable_name": "df",
              "summary": "{\n  \"name\": \"df\",\n  \"rows\": 506,\n  \"fields\": [\n    {\n      \"column\": \"CRIM\",\n      \"properties\": {\n        \"dtype\": \"number\",\n        \"std\": 8.720191850151599,\n        \"min\": 0.00632,\n        \"max\": 88.9762,\n        \"num_unique_values\": 484,\n        \"samples\": [\n          15.1772,\n          0.2896,\n          0.08308\n        ],\n        \"semantic_type\": \"\",\n        \"description\": \"\"\n      }\n    },\n    {\n      \"column\": \"ZN\",\n      \"properties\": {\n        \"dtype\": \"number\",\n        \"std\": 23.388876146265478,\n        \"min\": 0.0,\n        \"max\": 100.0,\n        \"num_unique_values\": 26,\n        \"samples\": [\n          25.0,\n          30.0,\n          18.0\n        ],\n        \"semantic_type\": \"\",\n        \"description\": \"\"\n      }\n    },\n    {\n      \"column\": \"INDUS\",\n      \"properties\": {\n        \"dtype\": \"number\",\n        \"std\": 6.83589649864144,\n        \"min\": 0.46,\n        \"max\": 27.74,\n        \"num_unique_values\": 76,\n        \"samples\": [\n          8.14,\n          1.47,\n          1.22\n        ],\n        \"semantic_type\": \"\",\n        \"description\": \"\"\n      }\n    },\n    {\n      \"column\": \"CHAS\",\n      \"properties\": {\n        \"dtype\": \"number\",\n        \"std\": 0.2553404809065679,\n        \"min\": 0.0,\n        \"max\": 1.0,\n        \"num_unique_values\": 2,\n        \"samples\": [\n          1.0,\n          0.0\n        ],\n        \"semantic_type\": \"\",\n        \"description\": \"\"\n      }\n    },\n    {\n      \"column\": \"NOX\",\n      \"properties\": {\n        \"dtype\": \"number\",\n        \"std\": 0.11587767566755595,\n        \"min\": 0.385,\n        \"max\": 0.871,\n        \"num_unique_values\": 81,\n        \"samples\": [\n          0.401,\n          0.538\n        ],\n        \"semantic_type\": \"\",\n        \"description\": \"\"\n      }\n    },\n    {\n      \"column\": \"RM\",\n      \"properties\": {\n        \"dtype\": \"number\",\n        \"std\": 0.7026171434153233,\n        \"min\": 3.561,\n        \"max\": 8.78,\n        \"num_unique_values\": 446,\n        \"samples\": [\n          6.849,\n          4.88\n        ],\n        \"semantic_type\": \"\",\n        \"description\": \"\"\n      }\n    },\n    {\n      \"column\": \"AGE\",\n      \"properties\": {\n        \"dtype\": \"number\",\n        \"std\": 27.99951300509237,\n        \"min\": 2.9,\n        \"max\": 100.0,\n        \"num_unique_values\": 348,\n        \"samples\": [\n          82.8,\n          88.4\n        ],\n        \"semantic_type\": \"\",\n        \"description\": \"\"\n      }\n    },\n    {\n      \"column\": \"DIS\",\n      \"properties\": {\n        \"dtype\": \"number\",\n        \"std\": 2.105710126627611,\n        \"min\": 1.1296,\n        \"max\": 12.1265,\n        \"num_unique_values\": 412,\n        \"samples\": [\n          2.2955,\n          4.2515\n        ],\n        \"semantic_type\": \"\",\n        \"description\": \"\"\n      }\n    },\n    {\n      \"column\": \"RAD\",\n      \"properties\": {\n        \"dtype\": \"number\",\n        \"std\": 8,\n        \"min\": 1,\n        \"max\": 24,\n        \"num_unique_values\": 9,\n        \"samples\": [\n          7,\n          2\n        ],\n        \"semantic_type\": \"\",\n        \"description\": \"\"\n      }\n    },\n    {\n      \"column\": \"TAX\",\n      \"properties\": {\n        \"dtype\": \"number\",\n        \"std\": 168,\n        \"min\": 187,\n        \"max\": 711,\n        \"num_unique_values\": 66,\n        \"samples\": [\n          370,\n          666\n        ],\n        \"semantic_type\": \"\",\n        \"description\": \"\"\n      }\n    },\n    {\n      \"column\": \"PTRATIO\",\n      \"properties\": {\n        \"dtype\": \"number\",\n        \"std\": 2.1649455237144406,\n        \"min\": 12.6,\n        \"max\": 22.0,\n        \"num_unique_values\": 46,\n        \"samples\": [\n          19.6,\n          15.6\n        ],\n        \"semantic_type\": \"\",\n        \"description\": \"\"\n      }\n    },\n    {\n      \"column\": \"B\",\n      \"properties\": {\n        \"dtype\": \"number\",\n        \"std\": 91.29486438415783,\n        \"min\": 0.32,\n        \"max\": 396.9,\n        \"num_unique_values\": 357,\n        \"samples\": [\n          396.24,\n          395.11\n        ],\n        \"semantic_type\": \"\",\n        \"description\": \"\"\n      }\n    },\n    {\n      \"column\": \"LSTAT\",\n      \"properties\": {\n        \"dtype\": \"number\",\n        \"std\": 7.155870815805251,\n        \"min\": 1.73,\n        \"max\": 37.97,\n        \"num_unique_values\": 438,\n        \"samples\": [\n          26.64,\n          7.51\n        ],\n        \"semantic_type\": \"\",\n        \"description\": \"\"\n      }\n    },\n    {\n      \"column\": \"MEDV\",\n      \"properties\": {\n        \"dtype\": \"number\",\n        \"std\": 9.197104087379818,\n        \"min\": 5.0,\n        \"max\": 50.0,\n        \"num_unique_values\": 229,\n        \"samples\": [\n          14.1,\n          22.5\n        ],\n        \"semantic_type\": \"\",\n        \"description\": \"\"\n      }\n    }\n  ]\n}"
            }
          },
          "metadata": {},
          "execution_count": 2
        }
      ]
    },
    {
      "cell_type": "code",
      "source": [
        "df.isnull().sum()"
      ],
      "metadata": {
        "colab": {
          "base_uri": "https://localhost:8080/"
        },
        "id": "P_YgxvEAWH0p",
        "outputId": "6cfbd869-63f0-4f0d-b651-308dbc045125"
      },
      "execution_count": 3,
      "outputs": [
        {
          "output_type": "execute_result",
          "data": {
            "text/plain": [
              "CRIM       20\n",
              "ZN         20\n",
              "INDUS      20\n",
              "CHAS       20\n",
              "NOX         0\n",
              "RM          0\n",
              "AGE        20\n",
              "DIS         0\n",
              "RAD         0\n",
              "TAX         0\n",
              "PTRATIO     0\n",
              "B           0\n",
              "LSTAT      20\n",
              "MEDV        0\n",
              "dtype: int64"
            ]
          },
          "metadata": {},
          "execution_count": 3
        }
      ]
    },
    {
      "cell_type": "code",
      "source": [
        "df[['CRIM','ZN','INDUS','CHAS','AGE','LSTAT']] = df[['CRIM','ZN','INDUS','CHAS','AGE','LSTAT']].fillna(df[['CRIM','ZN','INDUS','CHAS','AGE','LSTAT']].mean())\n"
      ],
      "metadata": {
        "id": "4Yy3pWTqWH3v"
      },
      "execution_count": 4,
      "outputs": []
    },
    {
      "cell_type": "code",
      "source": [
        "df.isnull().sum()"
      ],
      "metadata": {
        "colab": {
          "base_uri": "https://localhost:8080/"
        },
        "id": "aN-M1jFFWH6m",
        "outputId": "94f37bc3-fd47-4cf4-fa24-6c850d85b365"
      },
      "execution_count": 5,
      "outputs": [
        {
          "output_type": "execute_result",
          "data": {
            "text/plain": [
              "CRIM       0\n",
              "ZN         0\n",
              "INDUS      0\n",
              "CHAS       0\n",
              "NOX        0\n",
              "RM         0\n",
              "AGE        0\n",
              "DIS        0\n",
              "RAD        0\n",
              "TAX        0\n",
              "PTRATIO    0\n",
              "B          0\n",
              "LSTAT      0\n",
              "MEDV       0\n",
              "dtype: int64"
            ]
          },
          "metadata": {},
          "execution_count": 5
        }
      ]
    },
    {
      "cell_type": "code",
      "source": [
        "x=df.drop('MEDV',axis=1)\n",
        "y=df['MEDV']"
      ],
      "metadata": {
        "id": "cfmxqBbpXfhN"
      },
      "execution_count": 6,
      "outputs": []
    },
    {
      "cell_type": "code",
      "source": [
        "from sklearn.model_selection import train_test_split\n",
        "\n",
        "xtrain,xtest,ytrain,ytest=train_test_split(x,y,test_size=0.3,random_state=0)"
      ],
      "metadata": {
        "id": "p4VBtTxHXfkb"
      },
      "execution_count": 7,
      "outputs": []
    },
    {
      "cell_type": "code",
      "source": [
        "model = Sequential()\n",
        "\n",
        "model.add(Dense(128,input_shape=(13,),activation='relu',name='input'))\n",
        "model.add(Dense(64,activation='relu',name='layer1'))\n",
        "model.add(Dense(1,activation='linear',name='output'))\n",
        "\n",
        "model.compile(optimizer='adam', loss='mse',metrics='mae')\n",
        "model.summary()\n"
      ],
      "metadata": {
        "colab": {
          "base_uri": "https://localhost:8080/"
        },
        "id": "UP8hBasXXfn0",
        "outputId": "b237c21f-af62-4e77-cb89-5cab871110d0"
      },
      "execution_count": 9,
      "outputs": [
        {
          "output_type": "stream",
          "name": "stdout",
          "text": [
            "Model: \"sequential_1\"\n",
            "_________________________________________________________________\n",
            " Layer (type)                Output Shape              Param #   \n",
            "=================================================================\n",
            " layer1 (Dense)              (None, 128)               1792      \n",
            "                                                                 \n",
            " layer2 (Dense)              (None, 64)                8256      \n",
            "                                                                 \n",
            " output (Dense)              (None, 1)                 65        \n",
            "                                                                 \n",
            "=================================================================\n",
            "Total params: 10113 (39.50 KB)\n",
            "Trainable params: 10113 (39.50 KB)\n",
            "Non-trainable params: 0 (0.00 Byte)\n",
            "_________________________________________________________________\n"
          ]
        }
      ]
    },
    {
      "cell_type": "code",
      "source": [
        "model.fit(xtrain,ytrain,epochs=100)"
      ],
      "metadata": {
        "colab": {
          "base_uri": "https://localhost:8080/"
        },
        "id": "sAbsh_LdY-ZA",
        "outputId": "3789d8bf-10aa-4686-fbb4-76c25ea093c1"
      },
      "execution_count": 17,
      "outputs": [
        {
          "output_type": "stream",
          "name": "stdout",
          "text": [
            "Epoch 1/100\n",
            "12/12 [==============================] - 0s 3ms/step - loss: 63.9477 - mae: 6.3046\n",
            "Epoch 2/100\n",
            "12/12 [==============================] - 0s 3ms/step - loss: 60.0514 - mae: 5.9322\n",
            "Epoch 3/100\n",
            "12/12 [==============================] - 0s 3ms/step - loss: 39.5721 - mae: 4.6082\n",
            "Epoch 4/100\n",
            "12/12 [==============================] - 0s 3ms/step - loss: 39.9758 - mae: 4.4687\n",
            "Epoch 5/100\n",
            "12/12 [==============================] - 0s 3ms/step - loss: 37.1961 - mae: 4.3152\n",
            "Epoch 6/100\n",
            "12/12 [==============================] - 0s 3ms/step - loss: 35.2368 - mae: 4.1203\n",
            "Epoch 7/100\n",
            "12/12 [==============================] - 0s 3ms/step - loss: 35.3714 - mae: 4.0629\n",
            "Epoch 8/100\n",
            "12/12 [==============================] - 0s 3ms/step - loss: 36.5650 - mae: 4.3403\n",
            "Epoch 9/100\n",
            "12/12 [==============================] - 0s 3ms/step - loss: 35.9047 - mae: 4.1682\n",
            "Epoch 10/100\n",
            "12/12 [==============================] - 0s 4ms/step - loss: 40.4734 - mae: 4.4273\n",
            "Epoch 11/100\n",
            "12/12 [==============================] - 0s 4ms/step - loss: 34.6319 - mae: 4.1994\n",
            "Epoch 12/100\n",
            "12/12 [==============================] - 0s 6ms/step - loss: 35.4990 - mae: 4.1551\n",
            "Epoch 13/100\n",
            "12/12 [==============================] - 0s 5ms/step - loss: 33.9737 - mae: 4.0534\n",
            "Epoch 14/100\n",
            "12/12 [==============================] - 0s 5ms/step - loss: 36.8763 - mae: 4.3214\n",
            "Epoch 15/100\n",
            "12/12 [==============================] - 0s 5ms/step - loss: 37.0468 - mae: 4.4616\n",
            "Epoch 16/100\n",
            "12/12 [==============================] - 0s 5ms/step - loss: 33.6007 - mae: 4.0232\n",
            "Epoch 17/100\n",
            "12/12 [==============================] - 0s 5ms/step - loss: 34.8111 - mae: 4.2999\n",
            "Epoch 18/100\n",
            "12/12 [==============================] - 0s 4ms/step - loss: 31.5339 - mae: 3.8834\n",
            "Epoch 19/100\n",
            "12/12 [==============================] - 0s 4ms/step - loss: 33.0560 - mae: 3.9823\n",
            "Epoch 20/100\n",
            "12/12 [==============================] - 0s 4ms/step - loss: 31.0534 - mae: 4.1299\n",
            "Epoch 21/100\n",
            "12/12 [==============================] - 0s 4ms/step - loss: 31.3636 - mae: 4.0370\n",
            "Epoch 22/100\n",
            "12/12 [==============================] - 0s 4ms/step - loss: 34.4450 - mae: 4.2162\n",
            "Epoch 23/100\n",
            "12/12 [==============================] - 0s 5ms/step - loss: 33.1941 - mae: 4.0396\n",
            "Epoch 24/100\n",
            "12/12 [==============================] - 0s 5ms/step - loss: 33.2898 - mae: 4.1110\n",
            "Epoch 25/100\n",
            "12/12 [==============================] - 0s 4ms/step - loss: 30.5508 - mae: 3.8501\n",
            "Epoch 26/100\n",
            "12/12 [==============================] - 0s 4ms/step - loss: 32.4467 - mae: 4.0663\n",
            "Epoch 27/100\n",
            "12/12 [==============================] - 0s 5ms/step - loss: 34.0224 - mae: 4.3354\n",
            "Epoch 28/100\n",
            "12/12 [==============================] - 0s 5ms/step - loss: 38.7039 - mae: 4.6016\n",
            "Epoch 29/100\n",
            "12/12 [==============================] - 0s 4ms/step - loss: 33.3332 - mae: 4.2960\n",
            "Epoch 30/100\n",
            "12/12 [==============================] - 0s 4ms/step - loss: 30.5331 - mae: 3.9403\n",
            "Epoch 31/100\n",
            "12/12 [==============================] - 0s 4ms/step - loss: 32.0200 - mae: 4.0579\n",
            "Epoch 32/100\n",
            "12/12 [==============================] - 0s 4ms/step - loss: 29.9529 - mae: 3.8333\n",
            "Epoch 33/100\n",
            "12/12 [==============================] - 0s 4ms/step - loss: 32.2532 - mae: 4.0845\n",
            "Epoch 34/100\n",
            "12/12 [==============================] - 0s 4ms/step - loss: 30.3336 - mae: 3.9249\n",
            "Epoch 35/100\n",
            "12/12 [==============================] - 0s 5ms/step - loss: 32.8264 - mae: 4.2765\n",
            "Epoch 36/100\n",
            "12/12 [==============================] - 0s 5ms/step - loss: 28.3279 - mae: 3.7698\n",
            "Epoch 37/100\n",
            "12/12 [==============================] - 0s 4ms/step - loss: 29.7670 - mae: 3.8834\n",
            "Epoch 38/100\n",
            "12/12 [==============================] - 0s 4ms/step - loss: 28.7219 - mae: 3.8709\n",
            "Epoch 39/100\n",
            "12/12 [==============================] - 0s 5ms/step - loss: 28.5154 - mae: 3.7942\n",
            "Epoch 40/100\n",
            "12/12 [==============================] - 0s 6ms/step - loss: 27.5205 - mae: 3.6875\n",
            "Epoch 41/100\n",
            "12/12 [==============================] - 0s 5ms/step - loss: 29.3133 - mae: 3.8019\n",
            "Epoch 42/100\n",
            "12/12 [==============================] - 0s 5ms/step - loss: 30.1972 - mae: 4.0377\n",
            "Epoch 43/100\n",
            "12/12 [==============================] - 0s 6ms/step - loss: 33.6411 - mae: 4.2491\n",
            "Epoch 44/100\n",
            "12/12 [==============================] - 0s 6ms/step - loss: 32.6321 - mae: 4.1934\n",
            "Epoch 45/100\n",
            "12/12 [==============================] - 0s 5ms/step - loss: 28.2048 - mae: 3.8027\n",
            "Epoch 46/100\n",
            "12/12 [==============================] - 0s 5ms/step - loss: 26.6842 - mae: 3.6736\n",
            "Epoch 47/100\n",
            "12/12 [==============================] - 0s 4ms/step - loss: 26.9738 - mae: 3.6081\n",
            "Epoch 48/100\n",
            "12/12 [==============================] - 0s 5ms/step - loss: 29.0558 - mae: 3.8814\n",
            "Epoch 49/100\n",
            "12/12 [==============================] - 0s 5ms/step - loss: 30.6960 - mae: 4.1645\n",
            "Epoch 50/100\n",
            "12/12 [==============================] - 0s 5ms/step - loss: 27.7061 - mae: 3.8312\n",
            "Epoch 51/100\n",
            "12/12 [==============================] - 0s 5ms/step - loss: 27.8218 - mae: 3.8397\n",
            "Epoch 52/100\n",
            "12/12 [==============================] - 0s 5ms/step - loss: 28.1836 - mae: 3.8461\n",
            "Epoch 53/100\n",
            "12/12 [==============================] - 0s 4ms/step - loss: 29.3831 - mae: 3.9217\n",
            "Epoch 54/100\n",
            "12/12 [==============================] - 0s 3ms/step - loss: 28.0921 - mae: 3.8204\n",
            "Epoch 55/100\n",
            "12/12 [==============================] - 0s 3ms/step - loss: 34.6832 - mae: 4.3859\n",
            "Epoch 56/100\n",
            "12/12 [==============================] - 0s 3ms/step - loss: 29.5861 - mae: 4.0135\n",
            "Epoch 57/100\n",
            "12/12 [==============================] - 0s 4ms/step - loss: 25.5054 - mae: 3.5267\n",
            "Epoch 58/100\n",
            "12/12 [==============================] - 0s 3ms/step - loss: 27.6736 - mae: 3.8026\n",
            "Epoch 59/100\n",
            "12/12 [==============================] - 0s 3ms/step - loss: 24.9042 - mae: 3.5305\n",
            "Epoch 60/100\n",
            "12/12 [==============================] - 0s 3ms/step - loss: 25.8856 - mae: 3.6598\n",
            "Epoch 61/100\n",
            "12/12 [==============================] - 0s 4ms/step - loss: 24.9411 - mae: 3.5233\n",
            "Epoch 62/100\n",
            "12/12 [==============================] - 0s 3ms/step - loss: 25.4703 - mae: 3.6104\n",
            "Epoch 63/100\n",
            "12/12 [==============================] - 0s 3ms/step - loss: 25.3620 - mae: 3.6422\n",
            "Epoch 64/100\n",
            "12/12 [==============================] - 0s 3ms/step - loss: 25.6623 - mae: 3.6530\n",
            "Epoch 65/100\n",
            "12/12 [==============================] - 0s 4ms/step - loss: 24.8206 - mae: 3.6260\n",
            "Epoch 66/100\n",
            "12/12 [==============================] - 0s 3ms/step - loss: 25.1212 - mae: 3.5608\n",
            "Epoch 67/100\n",
            "12/12 [==============================] - 0s 3ms/step - loss: 25.2702 - mae: 3.5713\n",
            "Epoch 68/100\n",
            "12/12 [==============================] - 0s 3ms/step - loss: 25.5367 - mae: 3.7810\n",
            "Epoch 69/100\n",
            "12/12 [==============================] - 0s 3ms/step - loss: 24.5321 - mae: 3.5805\n",
            "Epoch 70/100\n",
            "12/12 [==============================] - 0s 3ms/step - loss: 23.8989 - mae: 3.5017\n",
            "Epoch 71/100\n",
            "12/12 [==============================] - 0s 3ms/step - loss: 23.7843 - mae: 3.4967\n",
            "Epoch 72/100\n",
            "12/12 [==============================] - 0s 3ms/step - loss: 23.8295 - mae: 3.4725\n",
            "Epoch 73/100\n",
            "12/12 [==============================] - 0s 3ms/step - loss: 25.3930 - mae: 3.7427\n",
            "Epoch 74/100\n",
            "12/12 [==============================] - 0s 3ms/step - loss: 26.1946 - mae: 3.5277\n",
            "Epoch 75/100\n",
            "12/12 [==============================] - 0s 3ms/step - loss: 28.0416 - mae: 4.0576\n",
            "Epoch 76/100\n",
            "12/12 [==============================] - 0s 4ms/step - loss: 25.2030 - mae: 3.5637\n",
            "Epoch 77/100\n",
            "12/12 [==============================] - 0s 3ms/step - loss: 24.5937 - mae: 3.5036\n",
            "Epoch 78/100\n",
            "12/12 [==============================] - 0s 3ms/step - loss: 24.7827 - mae: 3.6188\n",
            "Epoch 79/100\n",
            "12/12 [==============================] - 0s 3ms/step - loss: 23.8259 - mae: 3.5133\n",
            "Epoch 80/100\n",
            "12/12 [==============================] - 0s 3ms/step - loss: 23.9445 - mae: 3.4898\n",
            "Epoch 81/100\n",
            "12/12 [==============================] - 0s 3ms/step - loss: 24.0510 - mae: 3.5949\n",
            "Epoch 82/100\n",
            "12/12 [==============================] - 0s 3ms/step - loss: 23.1313 - mae: 3.3645\n",
            "Epoch 83/100\n",
            "12/12 [==============================] - 0s 4ms/step - loss: 28.7518 - mae: 4.1567\n",
            "Epoch 84/100\n",
            "12/12 [==============================] - 0s 3ms/step - loss: 28.6255 - mae: 3.9981\n",
            "Epoch 85/100\n",
            "12/12 [==============================] - 0s 3ms/step - loss: 29.9199 - mae: 3.9649\n",
            "Epoch 86/100\n",
            "12/12 [==============================] - 0s 3ms/step - loss: 23.8230 - mae: 3.4603\n",
            "Epoch 87/100\n",
            "12/12 [==============================] - 0s 3ms/step - loss: 32.0210 - mae: 4.3802\n",
            "Epoch 88/100\n",
            "12/12 [==============================] - 0s 3ms/step - loss: 34.3765 - mae: 4.4515\n",
            "Epoch 89/100\n",
            "12/12 [==============================] - 0s 3ms/step - loss: 30.0556 - mae: 4.1175\n",
            "Epoch 90/100\n",
            "12/12 [==============================] - 0s 4ms/step - loss: 24.8145 - mae: 3.6042\n",
            "Epoch 91/100\n",
            "12/12 [==============================] - 0s 3ms/step - loss: 24.0030 - mae: 3.4333\n",
            "Epoch 92/100\n",
            "12/12 [==============================] - 0s 3ms/step - loss: 22.8411 - mae: 3.3948\n",
            "Epoch 93/100\n",
            "12/12 [==============================] - 0s 3ms/step - loss: 25.8957 - mae: 3.9132\n",
            "Epoch 94/100\n",
            "12/12 [==============================] - 0s 3ms/step - loss: 23.0220 - mae: 3.4500\n",
            "Epoch 95/100\n",
            "12/12 [==============================] - 0s 3ms/step - loss: 24.1309 - mae: 3.5460\n",
            "Epoch 96/100\n",
            "12/12 [==============================] - 0s 3ms/step - loss: 25.9574 - mae: 3.8064\n",
            "Epoch 97/100\n",
            "12/12 [==============================] - 0s 3ms/step - loss: 22.9867 - mae: 3.3894\n",
            "Epoch 98/100\n",
            "12/12 [==============================] - 0s 3ms/step - loss: 22.8490 - mae: 3.4280\n",
            "Epoch 99/100\n",
            "12/12 [==============================] - 0s 3ms/step - loss: 22.1205 - mae: 3.3801\n",
            "Epoch 100/100\n",
            "12/12 [==============================] - 0s 3ms/step - loss: 22.9317 - mae: 3.4714\n"
          ]
        },
        {
          "output_type": "execute_result",
          "data": {
            "text/plain": [
              "<keras.src.callbacks.History at 0x7b4170176aa0>"
            ]
          },
          "metadata": {},
          "execution_count": 17
        }
      ]
    },
    {
      "cell_type": "code",
      "source": [
        "predictions=model.predict(xtest)"
      ],
      "metadata": {
        "colab": {
          "base_uri": "https://localhost:8080/"
        },
        "id": "Xsd-kL_dY-ck",
        "outputId": "e9dad544-d5c5-494d-96d7-dec944823518"
      },
      "execution_count": 18,
      "outputs": [
        {
          "output_type": "stream",
          "name": "stdout",
          "text": [
            "5/5 [==============================] - 0s 2ms/step\n"
          ]
        }
      ]
    },
    {
      "cell_type": "code",
      "source": [
        "output=model.evaluate(xtest,ytest)"
      ],
      "metadata": {
        "colab": {
          "base_uri": "https://localhost:8080/"
        },
        "id": "izqh0giYXfrM",
        "outputId": "5a536972-bde5-450d-fc9c-f381dfa0fff5"
      },
      "execution_count": 20,
      "outputs": [
        {
          "output_type": "stream",
          "name": "stdout",
          "text": [
            "5/5 [==============================] - 0s 3ms/step - loss: 38.8871 - mae: 4.0976\n"
          ]
        }
      ]
    },
    {
      "cell_type": "code",
      "source": [
        "plt.scatter(ytest,predictions)"
      ],
      "metadata": {
        "colab": {
          "base_uri": "https://localhost:8080/",
          "height": 447
        },
        "id": "j-8r2c7LWIAG",
        "outputId": "b642ac81-b3ca-461e-ffdf-7de59a3081c2"
      },
      "execution_count": 19,
      "outputs": [
        {
          "output_type": "execute_result",
          "data": {
            "text/plain": [
              "<matplotlib.collections.PathCollection at 0x7b4168fda530>"
            ]
          },
          "metadata": {},
          "execution_count": 19
        },
        {
          "output_type": "display_data",
          "data": {
            "text/plain": [
              "<Figure size 640x480 with 1 Axes>"
            ],
            "image/png": "[encoded data removed]"
          },
          "metadata": {}
        }
      ]
    },
    {
      "cell_type": "code",
      "source": [
        "print(f\"Mean squared error : {output[0]}\",\n",
        "      f\"Mean absolute error : {output[1]}\",sep=\"\\n\")"
      ],
      "metadata": {
        "colab": {
          "base_uri": "https://localhost:8080/"
        },
        "id": "eBNmu8TuWH9O",
        "outputId": "a13c458f-8ba5-4bc7-c269-cb7a474465de"
      },
      "execution_count": 24,
      "outputs": [
        {
          "output_type": "stream",
          "name": "stdout",
          "text": [
            "Mean squared error : 38.88711166381836\n",
            "Mean absolute error : 4.0975565910339355\n"
          ]
        }
      ]
    }
  ]
}